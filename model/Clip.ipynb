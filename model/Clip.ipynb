{
  "nbformat": 4,
  "nbformat_minor": 0,
  "metadata": {
    "colab": {
      "name": "Clip.ipynb",
      "version": "0.3.2",
      "provenance": [],
      "collapsed_sections": []
    },
    "kernelspec": {
      "name": "python3",
      "display_name": "Python 3"
    },
    "accelerator": "GPU"
  },
  "cells": [
    {
      "cell_type": "markdown",
      "metadata": {
        "id": "q2y3QkHxrH7z",
        "colab_type": "text"
      },
      "source": [
        "**Configure the Environment**"
      ]
    },
    {
      "cell_type": "code",
      "metadata": {
        "id": "yuP5TQfarPYI",
        "colab_type": "code",
        "colab": {}
      },
      "source": [
        "import os\n",
        "import sys\n",
        "!pip install contextlib2\n",
        "!apt-get install -y -qq protobuf-compiler python-pil python-lxml\n",
        "!git clone --quiet https://github.com/tensorflow/models.git\n",
        "os.chdir('models/research')\n",
        "!protoc object_detection/protos/*.proto --python_out=.\n",
        "sys.path.append('/content/models/research/slim')\n",
        "os.chdir('/content')\n",
        "!wget http://download.tensorflow.org/models/object_detection/ssd_inception_v2_coco_2018_01_28.tar.gz\n",
        "!tar -xvf ssd_inception_v2_coco_2018_01_28.tar.gz\n",
        "!git clone https://github.com/Prosenjit88/Clip/"
      ],
      "execution_count": 0,
      "outputs": []
    },
    {
      "cell_type": "code",
      "metadata": {
        "id": "sG3jbWOVxxXi",
        "colab_type": "code",
        "colab": {}
      },
      "source": [
        "!mkdir tfrecord"
      ],
      "execution_count": 0,
      "outputs": []
    },
    {
      "cell_type": "markdown",
      "metadata": {
        "id": "jskApqKn3Huj",
        "colab_type": "text"
      },
      "source": [
        "**Create Tf Record for train data**"
      ]
    },
    {
      "cell_type": "code",
      "metadata": {
        "id": "rzU0s1cnx1Op",
        "colab_type": "code",
        "colab": {}
      },
      "source": [
        "os.chdir('/content/models/research')\n",
        "%run /content/Clip/model/create_tfrecords_from_xml.py --image_dir=/content/Clip/Train2/images --annotations_dir=/content/Clip/Train2/Annotations --label_map_path=/content/Clip/Train2/label_map.pbtxt --output_path=/content/tfrecord/train.record"
      ],
      "execution_count": 0,
      "outputs": []
    },
    {
      "cell_type": "markdown",
      "metadata": {
        "id": "4QKTgtFn3Xx8",
        "colab_type": "text"
      },
      "source": [
        "**Delete All Flags**"
      ]
    },
    {
      "cell_type": "code",
      "metadata": {
        "id": "qFFAnvjR4F-B",
        "colab_type": "code",
        "colab": {}
      },
      "source": [
        "tf.flags.FLAGS.__delattr__('image_dir')\n",
        "tf.flags.FLAGS.__delattr__('annotations_dir')\n",
        "tf.flags.FLAGS.__delattr__('label_map_path')\n",
        "tf.flags.FLAGS.__delattr__('output_path')  "
      ],
      "execution_count": 0,
      "outputs": []
    },
    {
      "cell_type": "code",
      "metadata": {
        "id": "qQnEU1a162jE",
        "colab_type": "code",
        "colab": {}
      },
      "source": [
        "tf.flags.FLAGS"
      ],
      "execution_count": 0,
      "outputs": []
    },
    {
      "cell_type": "markdown",
      "metadata": {
        "id": "ij3_bsQi4iVN",
        "colab_type": "text"
      },
      "source": [
        "**Create TF Record file for test data**"
      ]
    },
    {
      "cell_type": "code",
      "metadata": {
        "id": "8lslZg6K3Cik",
        "colab_type": "code",
        "colab": {}
      },
      "source": [
        "%run /content/Clip/model/create_tfrecords_from_xml.py --image_dir=/content/Clip/Test/images --annotations_dir=/content/Clip/Test/Annotations --label_map_path=/content/Clip/Train/label_map.pbtxt --output_path=/content/tfrecord/test.record"
      ],
      "execution_count": 0,
      "outputs": []
    },
    {
      "cell_type": "code",
      "metadata": {
        "id": "nZTn82csBQgU",
        "colab_type": "code",
        "colab": {}
      },
      "source": [
        "os.chdir('/content/Clip/model')\n",
        "!mkdir training"
      ],
      "execution_count": 0,
      "outputs": []
    },
    {
      "cell_type": "markdown",
      "metadata": {
        "id": "i7tinVx06SRR",
        "colab_type": "text"
      },
      "source": [
        "**Train the model**"
      ]
    },
    {
      "cell_type": "code",
      "metadata": {
        "id": "g6Z9msdyAQno",
        "colab_type": "code",
        "colab": {}
      },
      "source": [
        "%run model_main.py --model_dir=training --pipeline_config_path=ssd_inception_v2_coco.config --alsologtostderr --num_train_steps=5000"
      ],
      "execution_count": 0,
      "outputs": []
    },
    {
      "cell_type": "markdown",
      "metadata": {
        "id": "ad_3ue2U6YJI",
        "colab_type": "text"
      },
      "source": [
        "**Export the graph for inference**"
      ]
    },
    {
      "cell_type": "code",
      "metadata": {
        "id": "C2eODILue0Uz",
        "colab_type": "code",
        "colab": {}
      },
      "source": [
        "%run export_inference_graph.py --trained_checkpoint_prefix=training/model.ckpt-5000 --output_directory=training"
      ],
      "execution_count": 0,
      "outputs": []
    }
  ]
}